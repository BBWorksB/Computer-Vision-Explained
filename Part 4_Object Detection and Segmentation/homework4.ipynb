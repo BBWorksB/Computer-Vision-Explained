{
 "cells": [
  {
   "cell_type": "markdown",
   "metadata": {},
   "source": [
    "# Part 1: Object Detection\n",
    "#### Step 1: Used Cups\n",
    "- Group members: Kingeno, Ammon, Victor, Oseno, Baraka\n",
    "- Chose to use RetinaNet\n",
    "\n",
    "#### Step 2: \n",
    "- Used RoboFlow to annotate the dataset collected\n",
    "\n",
    "#### Step 3: Modify the Object Detection model"
   ]
  },
  {
   "cell_type": "code",
   "execution_count": null,
   "metadata": {},
   "outputs": [],
   "source": [
    "# Install required packages\n",
    "# pip install torch torchvision pytorch-lightning pycocotools opencv-python matplotlib albumentations "
   ]
  },
  {
   "cell_type": "markdown",
   "metadata": {},
   "source": [
    "#### Import libraries needed"
   ]
  },
  {
   "cell_type": "code",
   "execution_count": null,
   "metadata": {},
   "outputs": [],
   "source": [
    "import zipfile"
   ]
  },
  {
   "cell_type": "code",
   "execution_count": 15,
   "metadata": {},
   "outputs": [],
   "source": [
    "# Unzip the downloaded data\n",
    "with zipfile.ZipFile(\"data/annotated cups.zip\", 'r') as zip_ref:\n",
    "    zip_ref.extractall(\"data/\")\n"
   ]
  },
  {
   "cell_type": "code",
   "execution_count": null,
   "metadata": {},
   "outputs": [],
   "source": []
  }
 ],
 "metadata": {
  "kernelspec": {
   "display_name": "cmu-env",
   "language": "python",
   "name": "python3"
  },
  "language_info": {
   "codemirror_mode": {
    "name": "ipython",
    "version": 3
   },
   "file_extension": ".py",
   "mimetype": "text/x-python",
   "name": "python",
   "nbconvert_exporter": "python",
   "pygments_lexer": "ipython3",
   "version": "3.12.7"
  }
 },
 "nbformat": 4,
 "nbformat_minor": 2
}
